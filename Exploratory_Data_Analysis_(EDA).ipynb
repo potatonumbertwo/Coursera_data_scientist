{
  "nbformat": 4,
  "nbformat_minor": 0,
  "metadata": {
    "colab": {
      "name": "Exploratory Data Analysis (EDA).ipynb",
      "provenance": [],
      "authorship_tag": "ABX9TyNFpG1HE/702kdTw3nwaSnu",
      "include_colab_link": true
    },
    "kernelspec": {
      "name": "python3",
      "display_name": "Python 3"
    },
    "language_info": {
      "name": "python"
    }
  },
  "cells": [
    {
      "cell_type": "markdown",
      "metadata": {
        "id": "view-in-github",
        "colab_type": "text"
      },
      "source": [
        "<a href=\"https://colab.research.google.com/github/potatonumbertwo/Coursera_data_scientist/blob/master/Exploratory_Data_Analysis_(EDA).ipynb\" target=\"_parent\"><img src=\"https://colab.research.google.com/assets/colab-badge.svg\" alt=\"Open In Colab\"/></a>"
      ]
    },
    {
      "cell_type": "code",
      "execution_count": 1,
      "metadata": {
        "id": "wRDrKOchT4MR"
      },
      "outputs": [],
      "source": [
        "import pandas as pd\n",
        "import numpy as np\n",
        "import seaborn as sns\n"
      ]
    },
    {
      "cell_type": "markdown",
      "source": [
        "#understand the data\n"
      ],
      "metadata": {
        "id": "jQ025R-JULvB"
      }
    },
    {
      "cell_type": "code",
      "source": [
        "data = pd.read_csv()"
      ],
      "metadata": {
        "id": "MwM9IM_3UPVW"
      },
      "execution_count": null,
      "outputs": []
    }
  ]
}